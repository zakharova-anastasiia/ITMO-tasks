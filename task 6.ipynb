{
 "cells": [
  {
   "cell_type": "code",
   "execution_count": 2,
   "metadata": {},
   "outputs": [],
   "source": [
    "import networkx as nx\n",
    "import numpy as np\n",
    "import matplotlib.pyplot as plt\n",
    "import random \n",
    "from pyvis.network import Network\n",
    "import time\n",
    "import itertools"
   ]
  },
  {
   "cell_type": "code",
   "execution_count": 3,
   "metadata": {},
   "outputs": [],
   "source": [
    "adj_matrix = np.zeros((100, 100))\n",
    "possible_edges = [(i, j) for i in range(100) for j in range(100) if i < j ]\n",
    "random.seed(42)\n",
    "for k in random.sample(possible_edges, 500):\n",
    "    w = np.random.randint(1, 100)\n",
    "    adj_matrix[k[0]][k[1]], adj_matrix[k[1]][k[0]] = w, w"
   ]
  },
  {
   "cell_type": "code",
   "execution_count": 4,
   "metadata": {},
   "outputs": [],
   "source": [
    "G = nx.from_numpy_matrix(adj_matrix)"
   ]
  },
  {
   "cell_type": "code",
   "execution_count": 5,
   "metadata": {},
   "outputs": [],
   "source": [
    "def adjacency_list(G):\n",
    "    return {i[0]: tuple(i[1].keys()) for i in G.adjacency()}\n",
    "\n",
    "adj_list = adjacency_list(G)"
   ]
  },
  {
   "cell_type": "code",
   "execution_count": 6,
   "metadata": {
    "scrolled": false
   },
   "outputs": [
    {
     "data": {
      "text/html": [
       "\n",
       "        <iframe\n",
       "            width=\"700px\"\n",
       "            height=\"700px\"\n",
       "            src=\"nx.html\"\n",
       "            frameborder=\"0\"\n",
       "            allowfullscreen\n",
       "        ></iframe>\n",
       "        "
      ],
      "text/plain": [
       "<IPython.lib.display.IFrame at 0x7fbd59067850>"
      ]
     },
     "execution_count": 6,
     "metadata": {},
     "output_type": "execute_result"
    }
   ],
   "source": [
    "nt = Network(\"700px\", \"700px\", notebook=True, bgcolor=\"#222222\", font_color=\"#FFFFFF\", \n",
    "             heading='Undirected weighted graph')\n",
    "nt.from_nx(G)\n",
    "nt.toggle_physics(False)\n",
    "nt.show(\"nx.html\")"
   ]
  },
  {
   "cell_type": "code",
   "execution_count": 7,
   "metadata": {},
   "outputs": [],
   "source": [
    "#Dijkstra's algorithm\n",
    "length_D, path_D = nx.single_source_dijkstra(G, 0)"
   ]
  },
  {
   "cell_type": "code",
   "execution_count": 8,
   "metadata": {},
   "outputs": [],
   "source": [
    "#Bellman-Ford algorithm\n",
    "length_BF, path_BF = nx.single_source_bellman_ford(G, 0)"
   ]
  },
  {
   "cell_type": "code",
   "execution_count": 9,
   "metadata": {},
   "outputs": [],
   "source": [
    "def time_meas(method, *args, nit=10):\n",
    "    timings = []\n",
    "    for i in range(nit):\n",
    "        st = time.time()\n",
    "        res = method(*args)\n",
    "        timings.append(time.time() - st)\n",
    "    return np.mean(timings)"
   ]
  },
  {
   "cell_type": "code",
   "execution_count": 10,
   "metadata": {},
   "outputs": [
    {
     "name": "stdout",
     "output_type": "stream",
     "text": [
      "2.6638336022951408 0.0017709970474243165 0.000664830207824707\n",
      "2.972389914772727 0.0015964984893798828 0.000537109375\n",
      "2.50657156955098 0.001332259178161621 0.0005315065383911133\n",
      "2.5439836339966524 0.0013045310974121095 0.0005127906799316407\n",
      "2.542351629980496 0.0013052701950073242 0.0005134105682373047\n",
      "1.4313831816995037 0.001699209213256836 0.00118710994720459\n",
      "3.0251877568371826 0.002035975456237793 0.0006730079650878907\n",
      "2.600904392764858 0.0014398813247680664 0.0005536079406738281\n",
      "2.434214605199061 0.0013105154037475586 0.0005383729934692383\n",
      "2.532400365074536 0.0013892173767089844 0.0005485773086547852\n"
     ]
    }
   ],
   "source": [
    "for i in range(10):\n",
    "    bf = time_meas(nx.single_source_bellman_ford, G, 0)\n",
    "    d = time_meas(nx.single_source_dijkstra, G, 0)\n",
    "    print(bf/d, bf, d)"
   ]
  },
  {
   "cell_type": "markdown",
   "metadata": {},
   "source": [
    "## A*"
   ]
  },
  {
   "cell_type": "code",
   "execution_count": 22,
   "metadata": {},
   "outputs": [],
   "source": [
    "grid = np.array([[1]*10]*10)\n",
    "random.seed(40)\n",
    "for i, j in random.sample(list([i, j] for i in range(10) for j in range(10)), 30):\n",
    "    grid[i][j] = 0"
   ]
  },
  {
   "cell_type": "code",
   "execution_count": 23,
   "metadata": {},
   "outputs": [
    {
     "data": {
      "text/plain": [
       "array([[1, 1, 1, 0, 0, 1, 0, 0, 1, 1],\n",
       "       [1, 1, 1, 1, 0, 1, 0, 1, 0, 1],\n",
       "       [1, 1, 0, 1, 1, 0, 0, 1, 1, 1],\n",
       "       [1, 0, 0, 1, 1, 0, 0, 1, 1, 1],\n",
       "       [0, 0, 1, 1, 0, 1, 1, 1, 1, 1],\n",
       "       [1, 1, 1, 1, 1, 1, 0, 1, 0, 1],\n",
       "       [1, 1, 1, 1, 1, 0, 0, 0, 1, 1],\n",
       "       [1, 1, 1, 1, 0, 1, 1, 1, 1, 0],\n",
       "       [1, 0, 1, 1, 1, 0, 1, 1, 1, 0],\n",
       "       [1, 1, 1, 0, 1, 1, 1, 0, 1, 0]])"
      ]
     },
     "execution_count": 23,
     "metadata": {},
     "output_type": "execute_result"
    }
   ],
   "source": [
    "grid"
   ]
  },
  {
   "cell_type": "code",
   "execution_count": 24,
   "metadata": {},
   "outputs": [],
   "source": [
    "zeros = tuple(zip(*np.where(grid == 0)))"
   ]
  },
  {
   "cell_type": "code",
   "execution_count": 25,
   "metadata": {},
   "outputs": [],
   "source": [
    "G1 = nx.grid_graph(dim=[10, 10])"
   ]
  },
  {
   "cell_type": "code",
   "execution_count": 26,
   "metadata": {},
   "outputs": [],
   "source": [
    "def weights_setting_von_neumman(G):\n",
    "    for key in dict(G.adjacency()):\n",
    "        for node in list(dict(G.adjacency())[key].keys()):\n",
    "            G[key][node]['weight'] = 1.0"
   ]
  },
  {
   "cell_type": "code",
   "execution_count": 27,
   "metadata": {},
   "outputs": [],
   "source": [
    "weights_setting_von_neumman(G1)"
   ]
  },
  {
   "cell_type": "code",
   "execution_count": 38,
   "metadata": {},
   "outputs": [],
   "source": [
    "# Adding the diagonal neighbors\n",
    "def adding_edges(G):\n",
    "    def neighbours_moore(node):\n",
    "        x = node[0]\n",
    "        y = node[1]\n",
    "        neighbours = ((x-1, y-1), (x+1, y+1), (x-1, y+1), (x+1, y-1))\n",
    "        return list(t for t in neighbours if (0 <= t[0] <= 9)  and (0 <= t[1] <= 9))\n",
    "    add_neighbours = []\n",
    "    for key in dict(G.adjacency()).keys():\n",
    "        for neighbour in neighbours_moore(key):\n",
    "            add_neighbours.append((key, neighbour))\n",
    "    return add_neighbours"
   ]
  },
  {
   "cell_type": "code",
   "execution_count": 39,
   "metadata": {},
   "outputs": [],
   "source": [
    "# And setting the weights respectively\n",
    "G1.add_edges_from(adding_edges(G1), weight=np.sqrt(2))"
   ]
  },
  {
   "cell_type": "code",
   "execution_count": 40,
   "metadata": {},
   "outputs": [],
   "source": [
    "# Obstacles \n",
    "def delete_zeros(G, grid):\n",
    "    ad = dict(G.adjacency())\n",
    "    for k in ad.keys():\n",
    "        for zero in tuple(zip(*np.where(grid == 0))):\n",
    "            if zero in ad[k].keys():\n",
    "                ad[k].pop(zero)\n",
    "    for k in zeros:\n",
    "        ad.pop(k)\n",
    "    return nx.Graph(ad)"
   ]
  },
  {
   "cell_type": "code",
   "execution_count": 41,
   "metadata": {},
   "outputs": [],
   "source": [
    "G2 = delete_zeros(G1, grid)"
   ]
  },
  {
   "cell_type": "code",
   "execution_count": 30,
   "metadata": {},
   "outputs": [],
   "source": [
    "def manhattan(a, b):\n",
    "    (x1, y1) = a\n",
    "    (x2, y2) = b\n",
    "    dx = abs(x2 - x1)\n",
    "    dy = abs(y2 - y1)\n",
    "    return (dx + dy)\n",
    "\n",
    "def chebyshev(a, b):\n",
    "    (x1, y1) = a\n",
    "    (x2, y2) = b\n",
    "    dx = abs(x2 - x1)\n",
    "    dy = abs(y2 - y1)\n",
    "    return (dx + dy) - min(dx, dy)\n",
    "\n",
    "# nenad\n",
    "def octile(a, b):\n",
    "    (x1, y1) = a\n",
    "    (x2, y2) = b\n",
    "    dx = abs(x2 - x1)\n",
    "    dy = abs(y2 - y1)\n",
    "    return (dx + dy) + (np.sqrt(2) - 2) * min(dx, dy)\n",
    "\n",
    "def euclidian(a, b):\n",
    "    (x1, y1) = a\n",
    "    (x2, y2) = b\n",
    "    dx = abs(x2 - x1)\n",
    "    dy = abs(y2 - y1)\n",
    "    return np.sqrt(dx * dx + dy * dy)\n",
    "\n",
    "\n",
    "res_m = nx.astar_path(G2, (0, 0), (9, 8), heuristic=manhattan)\n",
    "res_ch = nx.astar_path(G2, (0, 0), (9, 8), heuristic=chebyshev)\n",
    "res_oc = nx.astar_path(G2, (0, 0), (9, 8), heuristic=octile)\n",
    "res_euc = nx.astar_path(G2, (0, 0), (9, 8), heuristic=euclidian)"
   ]
  },
  {
   "cell_type": "code",
   "execution_count": 31,
   "metadata": {},
   "outputs": [
    {
     "data": {
      "image/png": "[encoded data removed]",
      "text/plain": [
       "<Figure size 720x720 with 1 Axes>"
      ]
     },
     "metadata": {
      "needs_background": "light"
     },
     "output_type": "display_data"
    }
   ],
   "source": [
    "fig, ax = plt.subplots(figsize=(10,10))\n",
    "ax.imshow(grid, cmap=plt.cm.YlGnBu)\n",
    "ax.scatter(0, 0, marker = \"*\", color = \"w\", s = 1000)\n",
    "ax.scatter(8, 9, marker = \"*\", color = \"r\", s = 1000)\n",
    "#plt.plot(tuple(zip(*res_sq))[1], tuple(zip(*res_sq))[0], color='g', marker='o', linewidth=5)\n",
    "plt.plot(tuple(zip(*res_m))[1], tuple(zip(*res_m))[0], color='r', \n",
    "         marker='o', linestyle='dashed', linewidth=2)\n",
    "plt.plot(tuple(zip(*res_ch))[1], tuple(zip(*res_ch))[0], color='y', \n",
    "        linestyle='dashed', linewidth=4)\n",
    "#plt.plot(tuple(zip(*res_oc))[1], tuple(zip(*res_oc))[0], color='b', marker='o', linestyle='dashed')\n",
    "plt.plot(tuple(zip(*res_euc))[1], tuple(zip(*res_euc))[0], color='#FFFFFF', \n",
    "         linestyle='dashed')\n",
    "plt.show()"
   ]
  },
  {
   "cell_type": "code",
   "execution_count": 32,
   "metadata": {
    "scrolled": true
   },
   "outputs": [
    {
     "name": "stdout",
     "output_type": "stream",
     "text": [
      "16\n",
      "254\n",
      "267\n",
      "295\n",
      "310\n",
      "336\n",
      "344\n",
      "349\n",
      "470\n",
      "484\n",
      "486\n",
      "573\n",
      "639\n",
      "710\n",
      "721\n",
      "729\n",
      "755\n",
      "805\n",
      "834\n",
      "846\n"
     ]
    }
   ],
   "source": [
    "for i in range(1000):\n",
    "    random.seed(545)\n",
    "    try:\n",
    "        res_sq1 = nx.astar_path(G2, (np.random.randint(0, 10), np.random.randint(0, 10)), \n",
    "                       (np.random.randint(0, 10), np.random.randint(0, 10)), \n",
    "                       heuristic=squared)\n",
    "        res_sq2 = nx.astar_path(G2, (np.random.randint(0, 10), np.random.randint(0, 10)), \n",
    "                       (np.random.randint(0, 10), np.random.randint(0, 10)), \n",
    "                       heuristic=squared)\n",
    "        res_sq3 = nx.astar_path(G2, (np.random.randint(0, 10), np.random.randint(0, 10)), \n",
    "                       (np.random.randint(0, 10), np.random.randint(0, 10)), \n",
    "                       heuristic=squared)\n",
    "        res_sq4 = nx.astar_path(G2, (np.random.randint(0, 10), np.random.randint(0, 10)), \n",
    "                       (np.random.randint(0, 10), np.random.randint(0, 10)), \n",
    "                       heuristic=squared)\n",
    "        res_sq5 = nx.astar_path(G2, (np.random.randint(0, 10), np.random.randint(0, 10)), \n",
    "                       (np.random.randint(0, 10), np.random.randint(0, 10)), \n",
    "                       heuristic=squared)\n",
    "        print(i)\n",
    "    except:\n",
    "        pass"
   ]
  },
  {
   "cell_type": "code",
   "execution_count": 33,
   "metadata": {},
   "outputs": [],
   "source": [
    "def plot(results, start=0, end=0, title=''):\n",
    "    fig, ax = plt.subplots(figsize=(10,10))\n",
    "    ax.imshow(grid, cmap=plt.cm.YlGnBu)\n",
    "    if start != 0:\n",
    "        ax.scatter(start[1], start[0], marker = \"*\", color = \"w\", s = 1000)\n",
    "        ax.scatter(end[1], end[0], marker = \"*\", color = \"r\", s = 1000)\n",
    "    plt.plot(tuple(zip(*results[0]))[1], tuple(zip(*results[0]))[0], color='g', \n",
    "         marker='o', linewidth=5)\n",
    "    plt.plot(tuple(zip(*results[1]))[1], tuple(zip(*results[1]))[0], color='r', \n",
    "         marker='o', linestyle='dashed', linewidth=2)\n",
    "    plt.plot(tuple(zip(*results[2]))[1], tuple(zip(*results[2]))[0], color='y', \n",
    "        linestyle='dashed', linewidth=4)\n",
    "    plt.plot(tuple(zip(*results[3]))[1], tuple(zip(*results[3]))[0], color='b', \n",
    "         marker='o', linestyle='dashed')\n",
    "    plt.plot(tuple(zip(*results[4]))[1], tuple(zip(*results[4]))[0], color='#FFFFFF', \n",
    "         linestyle='dashed')\n",
    "    plt.title(title)\n",
    "    return plt.show()"
   ]
  },
  {
   "cell_type": "code",
   "execution_count": 34,
   "metadata": {
    "scrolled": false
   },
   "outputs": [
    {
     "data": {
      "image/png": "[encoded data removed]",
      "text/plain": [
       "<Figure size 720x720 with 1 Axes>"
      ]
     },
     "metadata": {
      "needs_background": "light"
     },
     "output_type": "display_data"
    }
   ],
   "source": [
    "plot([res_sq1, res_sq2, res_sq3, res_sq4, res_sq5])"
   ]
  },
  {
   "cell_type": "code",
   "execution_count": 43,
   "metadata": {},
   "outputs": [
    {
     "name": "stdout",
     "output_type": "stream",
     "text": [
      "2\n",
      "56\n",
      "81\n",
      "136\n",
      "218\n",
      "238\n",
      "252\n",
      "279\n",
      "353\n",
      "373\n",
      "386\n",
      "391\n",
      "497\n",
      "545\n",
      "586\n",
      "595\n",
      "626\n",
      "635\n",
      "679\n",
      "730\n",
      "770\n",
      "783\n",
      "796\n",
      "798\n",
      "811\n",
      "820\n",
      "830\n",
      "885\n",
      "971\n",
      "996\n"
     ]
    }
   ],
   "source": [
    "for i in range(1000):\n",
    "    random.seed(545)\n",
    "    try:\n",
    "        x1one, x1two, x1three, x1four, x1five = np.random.randint(0, 10, size=5)\n",
    "        y1one, y1two, y1three, y1four, y1five = np.random.randint(0, 10, size=5)\n",
    "        x2one, x2two, x2three, x2four, x2five = np.random.randint(0, 10, size=5)\n",
    "        y2one, y2two, y2three, y2four, y2five = np.random.randint(0, 10, size=5)\n",
    "        res_e1 = nx.astar_path(G2, (x1one, y1one), (x2one, y2one), heuristic=euclidian)\n",
    "        res_m1 = nx.astar_path(G2, (x1one, y1one), (x2one, y2one), heuristic=manhattan)\n",
    "        res_e2 = nx.astar_path(G2, (x1two, y1two), (x2two, y2two), heuristic=euclidian)\n",
    "        res_m2 = nx.astar_path(G2, (x1two, y1two), (x2two, y2two), heuristic=manhattan)\n",
    "        res_e3 = nx.astar_path(G2, (x1three, y1three), (x2three, y2three), heuristic=euclidian)\n",
    "        res_m3 = nx.astar_path(G2, (x1three, y1three), (x2three, y2three), heuristic=manhattan)\n",
    "        res_e4 = nx.astar_path(G2, (x1four, y1four), (x2four, y2four), heuristic=euclidian)\n",
    "        res_m4 = nx.astar_path(G2, (x1four, y1four), (x2four, y2four), heuristic=manhattan)\n",
    "        res_e5 = nx.astar_path(G2, (x1five, y1five), (x2five, y2five), heuristic=euclidian)\n",
    "        res_m5 = nx.astar_path(G2, (x1five, y1five), (x2five, y2five), heuristic=manhattan)\n",
    "        \n",
    "        print(i)\n",
    "    except:\n",
    "        pass"
   ]
  },
  {
   "cell_type": "code",
   "execution_count": 44,
   "metadata": {},
   "outputs": [
    {
     "name": "stdout",
     "output_type": "stream",
     "text": [
      "51\n",
      "128\n",
      "142\n",
      "143\n",
      "186\n",
      "216\n",
      "306\n",
      "329\n",
      "371\n",
      "436\n",
      "525\n",
      "579\n",
      "598\n",
      "610\n",
      "613\n",
      "620\n",
      "756\n",
      "775\n",
      "780\n",
      "861\n",
      "867\n",
      "883\n",
      "916\n",
      "921\n",
      "923\n",
      "954\n"
     ]
    }
   ],
   "source": [
    "for i in range(1000):\n",
    "    random.seed(545)\n",
    "    try:\n",
    "        x1one, x1two, x1three, x1four, x1five = np.random.randint(0, 10, size=5)\n",
    "        y1one, y1two, y1three, y1four, y1five = np.random.randint(0, 10, size=5)\n",
    "        x2one, x2two, x2three, x2four, x2five = np.random.randint(0, 10, size=5)\n",
    "        y2one, y2two, y2three, y2four, y2five = np.random.randint(0, 10, size=5)\n",
    "        res_e1 = nx.astar_path(G2, (x1one, y1one), (x2one, y2one), heuristic=euclidian)\n",
    "        res_m1 = nx.astar_path(G2, (x1one, y1one), (x2one, y2one), heuristic=chebyshev)\n",
    "        res_e2 = nx.astar_path(G2, (x1two, y1two), (x2two, y2two), heuristic=euclidian)\n",
    "        res_m2 = nx.astar_path(G2, (x1two, y1two), (x2two, y2two), heuristic=chebyshev)\n",
    "        res_e3 = nx.astar_path(G2, (x1three, y1three), (x2three, y2three), heuristic=euclidian)\n",
    "        res_m3 = nx.astar_path(G2, (x1three, y1three), (x2three, y2three), heuristic=chebyshev)\n",
    "        res_e4 = nx.astar_path(G2, (x1four, y1four), (x2four, y2four), heuristic=euclidian)\n",
    "        res_m4 = nx.astar_path(G2, (x1four, y1four), (x2four, y2four), heuristic=chebyshev)\n",
    "        res_e5 = nx.astar_path(G2, (x1five, y1five), (x2five, y2five), heuristic=euclidian)\n",
    "        res_m5 = nx.astar_path(G2, (x1five, y1five), (x2five, y2five), heuristic=chebyshev)\n",
    "        \n",
    "        print(i)\n",
    "    except:\n",
    "        pass"
   ]
  },
  {
   "cell_type": "code",
   "execution_count": 45,
   "metadata": {},
   "outputs": [
    {
     "data": {
      "image/png": "[encoded data removed]",
      "text/plain": [
       "<Figure size 720x720 with 1 Axes>"
      ]
     },
     "metadata": {
      "needs_background": "light"
     },
     "output_type": "display_data"
    },
    {
     "data": {
      "image/png": "[encoded data removed]",
      "text/plain": [
       "<Figure size 720x720 with 1 Axes>"
      ]
     },
     "metadata": {
      "needs_background": "light"
     },
     "output_type": "display_data"
    }
   ],
   "source": [
    "plot([res_e1, res_e2, res_e3, res_e4, res_e5], title='Euclidian distance')\n",
    "\n",
    "plot([res_m1, res_m2, res_m3, res_m4, res_m5], title='Diagonal (Chebyshev) distance')\n"
   ]
  },
  {
   "cell_type": "code",
   "execution_count": 103,
   "metadata": {},
   "outputs": [],
   "source": [
    "def distance(result, dist_function=euclidian):\n",
    "    s = 0\n",
    "    for i in range(1, len(result[1:])):\n",
    "        s += dist_function(result[i-1], result[i])\n",
    "    return s      "
   ]
  },
  {
   "cell_type": "code",
   "execution_count": null,
   "metadata": {},
   "outputs": [],
   "source": []
  }
 ],
 "metadata": {
  "kernelspec": {
   "display_name": "Python 3",
   "language": "python",
   "name": "python3"
  },
  "language_info": {
   "codemirror_mode": {
    "name": "ipython",
    "version": 3
   },
   "file_extension": ".py",
   "mimetype": "text/x-python",
   "name": "python",
   "nbconvert_exporter": "python",
   "pygments_lexer": "ipython3",
   "version": "3.7.6"
  }
 },
 "nbformat": 4,
 "nbformat_minor": 4
}
